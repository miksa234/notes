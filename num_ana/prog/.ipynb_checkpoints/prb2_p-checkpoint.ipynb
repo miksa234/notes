{
 "cells": [
  {
   "cell_type": "code",
   "execution_count": 1,
   "id": "517aef32",
   "metadata": {},
   "outputs": [],
   "source": [
    "import numpy as np\n",
    "import matplotlib.pyplot as plt"
   ]
  },
  {
   "cell_type": "markdown",
   "id": "85da4812",
   "metadata": {},
   "source": [
    "# Sheet 2, Exercise 3"
   ]
  },
  {
   "cell_type": "code",
   "execution_count": 2,
   "id": "e14c738f",
   "metadata": {},
   "outputs": [],
   "source": [
    "def gauss_siedel(A, b, k):\n",
    "    n, m = Q.shape\n",
    "    D = np.reshape([Q[i][j] if i==j else 0 for i in range(n) for j in range(n)], (n ,n))\n",
    "    L = np.reshape([Q[i][j] if i>j else 0 for i in range(n) for j in range(n)], (n ,n))\n",
    "    U = np.reshape([Q[i][j] if i<j else 0 for i in range(n) for j in range(n)], (n ,n))\n",
    "\n",
    "    x = np.random.rand(n)\n",
    "    for i in range(k):\n",
    "        x = np.linalg.inv(D)@(b - (L + U)@x)\n",
    "    return x\n",
    "\n",
    "def poisson_mat(n, m=None):\n",
    "    return 2 * np.eye(n, m) + (-1) * np.eye(n, m, k=1) + (-1) * np.eye(n, m, k=-1)\n",
    "\n",
    "# test\n",
    "for n in range(5, 20):\n",
    "    Q = poisson_mat(n)\n",
    "    b = np.ones(n)\n",
    "    x = gauss_siedel(Q, b, k=1000)\n",
    "    np.testing.assert_allclose(Q@x, b, rtol=1e-5, err_msg=f'GS failed at dim - {n}')"
   ]
  },
  {
   "cell_type": "markdown",
   "id": "51428a2b",
   "metadata": {},
   "source": [
    "# Sheet 2, Exercise 5"
   ]
  },
  {
   "cell_type": "code",
   "execution_count": 6,
   "id": "caef181e",
   "metadata": {},
   "outputs": [
    {
     "name": "stdout",
     "output_type": "stream",
     "text": [
      "1\t44.76606865271526\n",
      "2\t59.35975010638207\n",
      "3\t22.760834328149066\n",
      "4\t35.62184004487846\n",
      "5\t15.344146462132612\n",
      "6\t25.450588757787237\n",
      "7\t11.636387156050118\n",
      "8\t19.801556558635152\n",
      "9\t9.412478177542988\n",
      "10\t16.208077941288785\n",
      "11\t7.930495393514105\n",
      "12\t13.721435287552058\n",
      "13\t6.872470144914724\n",
      "14\t11.898893608722659\n",
      "15\t6.079418049762978\n",
      "16\t10.506063704904786\n",
      "17\t5.463014409761165\n",
      "18\t9.407246486889383\n",
      "19\t4.970264368579988\n",
      "20\t8.518437685556936\n",
      "21\t4.567443892886474\n",
      "22\t7.784851843354031\n",
      "23\t4.2320702628688585\n",
      "24\t7.1692347898822\n",
      "25\t3.948578490221603\n",
      "26\t6.645370572800227\n",
      "27\t3.705850699860457\n",
      "28\t6.194275175956779\n",
      "29\t3.495733758960119\n",
      "Max. and Min. Singular value are far apart from each other for uneaven p\n"
     ]
    },
    {
     "data": {
      "image/png": "[encoded data removed]",
      "text/plain": [
       "<Figure size 504x288 with 1 Axes>"
      ]
     },
     "metadata": {
      "needs_background": "light"
     },
     "output_type": "display_data"
    }
   ],
   "source": [
    "def neumann_polynomial_preconditioner(n, p):\n",
    "    Q = poisson_mat(n)\n",
    "    D = np.reshape([Q[i][j] if i==j else 0 for i in range(n) for j in range(n)], (n ,n))\n",
    "    N = D - Q\n",
    "    C_p = np.zeros([n, n])\n",
    "    for k in range(p+1):\n",
    "        C_p += np.linalg.matrix_power(N @ np.linalg.inv(D), k)\n",
    "    return np.linalg.inv(D) @ C_p\n",
    "    \n",
    "    \n",
    "n = 20\n",
    "Q = poisson_mat(n)\n",
    "P = np.arange(1, 30)\n",
    "cond_2 = []\n",
    "for p in P:\n",
    "    C_p = neumann_polynomial_preconditioner(n, p)\n",
    "    cond_2.append(np.linalg.cond(C_p @ Q, p=2))\n",
    "    print(p, cond_2[p-1], sep='\\t')\n",
    "    \n",
    "plt.figure(figsize=[7, 4])\n",
    "plt.scatter(P, cond_2)\n",
    "print(\"Max. and Min. Singular value are far apart from each other for uneaven p\")"
   ]
  },
  {
   "cell_type": "code",
   "execution_count": null,
   "id": "73ce1ef6",
   "metadata": {},
   "outputs": [],
   "source": []
  },
  {
   "cell_type": "code",
   "execution_count": null,
   "id": "53064abd",
   "metadata": {},
   "outputs": [],
   "source": []
  },
  {
   "cell_type": "code",
   "execution_count": null,
   "id": "26476d82",
   "metadata": {},
   "outputs": [],
   "source": []
  }
 ],
 "metadata": {
  "kernelspec": {
   "display_name": "Python 3 (ipykernel)",
   "language": "python",
   "name": "python3"
  },
  "language_info": {
   "codemirror_mode": {
    "name": "ipython",
    "version": 3
   },
   "file_extension": ".py",
   "mimetype": "text/x-python",
   "name": "python",
   "nbconvert_exporter": "python",
   "pygments_lexer": "ipython3",
   "version": "3.10.2"
  }
 },
 "nbformat": 4,
 "nbformat_minor": 5
}
