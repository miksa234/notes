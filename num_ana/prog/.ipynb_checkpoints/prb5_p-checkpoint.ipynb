{
 "cells": [
  {
   "cell_type": "code",
   "execution_count": 2,
   "id": "a365a539",
   "metadata": {},
   "outputs": [],
   "source": [
    "import numpy as np"
   ]
  },
  {
   "cell_type": "code",
   "execution_count": 3,
   "id": "0416380f",
   "metadata": {},
   "outputs": [],
   "source": [
    "def damped_richardson(A, b, n, ω):\n",
    "    x_k = np.zeros(b.shape[0])\n",
    "    for i in range(n):\n",
    "        x_k = (np.identity(b.shape[0]) - ω*A)@x_k + ω*b\n",
    "    return x_k"
   ]
  },
  {
   "cell_type": "code",
   "execution_count": 4,
   "id": "301ce785",
   "metadata": {},
   "outputs": [],
   "source": [
    "A = np.array([[3, 1, 1],\n",
    "              [1, 3, 1],\n",
    "              [1, 1, 4]])\n",
    "b = np.array([2, -4, 3])\n",
    "\n",
    "# find suitable ω\n",
    "λ = np.linalg.eig(A)[0]\n",
    "ω = 2/(max(λ) + min(λ))"
   ]
  },
  {
   "cell_type": "code",
   "execution_count": 5,
   "id": "077214f2",
   "metadata": {},
   "outputs": [],
   "source": [
    "x = damped_richardson(A, b, 20, ω)\n",
    "np.testing.assert_allclose(A@x, b, rtol=1e-5)"
   ]
  }
 ],
 "metadata": {
  "kernelspec": {
   "display_name": "Python 3 (ipykernel)",
   "language": "python",
   "name": "python3"
  },
  "language_info": {
   "codemirror_mode": {
    "name": "ipython",
    "version": 3
   },
   "file_extension": ".py",
   "mimetype": "text/x-python",
   "name": "python",
   "nbconvert_exporter": "python",
   "pygments_lexer": "ipython3",
   "version": "3.10.4"
  }
 },
 "nbformat": 4,
 "nbformat_minor": 5
}
