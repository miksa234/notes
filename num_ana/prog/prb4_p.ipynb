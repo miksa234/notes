{
 "cells": [
  {
   "cell_type": "code",
   "execution_count": 1,
   "id": "84bcf23b",
   "metadata": {},
   "outputs": [],
   "source": [
    "import numpy as np\n",
    "from numpy import testing as testing\n",
    "from matplotlib import pyplot as plt"
   ]
  },
  {
   "cell_type": "markdown",
   "id": "f8656109",
   "metadata": {},
   "source": [
    "# Sheet 4, Exercise 1"
   ]
  },
  {
   "cell_type": "code",
   "execution_count": 2,
   "id": "0de86192",
   "metadata": {},
   "outputs": [],
   "source": [
    "def conjugate_gradient(A:np.ndarray, b:np.ndarray, steps: int) -> np.ndarray:\n",
    "    x_k = np.zeros(b.shape) \n",
    "    r_k = b - (A @ x_k)\n",
    "    p_k = r_k\n",
    "    for k in range(steps):\n",
    "        α_k = (p_k @ r_k) / (p_k @ A @ p_k)\n",
    "        x_k = x_k + (α_k * p_k)     # x_k+1\n",
    "        r_k = r_k - α_k * (A @ p_k) # r_k+1\n",
    "        if not np.any(r_k):         # stop if r_k+1 = 0 \n",
    "            break\n",
    "        β_k = ((A @ p_k) @ r_k) / ((A @ p_k) @ p_k)\n",
    "        p_k = r_k - (β_k * p_k)\n",
    "    return x_k\n",
    "\n",
    "def poisson_mat(n:int, m : int =None) -> np.ndarray:\n",
    "    return 2 * np.eye(n, m) + (-1) * np.eye(n, m, k=1) + (-1) * np.eye(n, m, k=-1)"
   ]
  },
  {
   "cell_type": "code",
   "execution_count": 3,
   "id": "60a4d70d",
   "metadata": {},
   "outputs": [],
   "source": [
    "for n in range(3, 21):\n",
    "    Q = poisson_mat(n)\n",
    "    b = np.ones(n)\n",
    "    x = np.linalg.inv(Q) @ b\n",
    "    x_k = conjugate_gradient(Q, b, 10)\n",
    "    testing.assert_allclose(x_k, x, rtol=1e-5, err_msg=f'CG failed at dim - {n}')"
   ]
  },
  {
   "cell_type": "markdown",
   "id": "67accdb6",
   "metadata": {},
   "source": [
    "What happends to a matrix that is not positive definite? Consider the system\n",
    "\\begin{align}\n",
    "    A = \n",
    "        \\begin{pmatrix}\n",
    "        1 & 0 & 0\\\\\n",
    "        0 & 1 & 0\\\\\n",
    "        0 & 0 & -2\\\\\n",
    "        \\end{pmatrix}, \\qquad\n",
    "    b = \n",
    "        \\begin{pmatrix}\n",
    "        1 \\\\\n",
    "        1 \\\\\n",
    "        1\n",
    "        \\end{pmatrix}.\n",
    "\\end{align}\n",
    "Because $A$ is indefinite, the coefficients $\\alpha_k$ are undefined, \n",
    "i.e. there is an $r^k \\neq 0$ such that $(r^k)^TAr^k = 0$."
   ]
  },
  {
   "cell_type": "code",
   "execution_count": 4,
   "id": "12b54df7",
   "metadata": {},
   "outputs": [
    {
     "name": "stderr",
     "output_type": "stream",
     "text": [
      "/tmp/ipykernel_219747/1775264609.py:6: RuntimeWarning: divide by zero encountered in double_scalars\n",
      "  α_k = (p_k @ r_k) / (p_k @ A @ p_k)\n",
      "/tmp/ipykernel_219747/1775264609.py:12: RuntimeWarning: invalid value encountered in subtract\n",
      "  p_k = r_k - (β_k * p_k)\n",
      "/tmp/ipykernel_219747/1775264609.py:6: RuntimeWarning: invalid value encountered in matmul\n",
      "  α_k = (p_k @ r_k) / (p_k @ A @ p_k)\n",
      "/tmp/ipykernel_219747/1775264609.py:8: RuntimeWarning: invalid value encountered in matmul\n",
      "  r_k = r_k - α_k * (A @ p_k) # r_k+1\n",
      "/tmp/ipykernel_219747/1775264609.py:11: RuntimeWarning: invalid value encountered in matmul\n",
      "  β_k = ((A @ p_k) @ r_k) / ((A @ p_k) @ p_k)\n"
     ]
    },
    {
     "ename": "AssertionError",
     "evalue": "\nNot equal to tolerance rtol=1e-05, atol=0\nCG failed for non-definite matrix\nx and y nan location mismatch:\n x: array([nan, nan, nan])\n y: array([1., 1., 1.])",
     "output_type": "error",
     "traceback": [
      "\u001b[0;31m---------------------------------------------------------------------------\u001b[0m",
      "\u001b[0;31mAssertionError\u001b[0m                            Traceback (most recent call last)",
      "Input \u001b[0;32mIn [4]\u001b[0m, in \u001b[0;36m<cell line: 4>\u001b[0;34m()\u001b[0m\n\u001b[1;32m      2\u001b[0m b \u001b[38;5;241m=\u001b[39m np\u001b[38;5;241m.\u001b[39mones(\u001b[38;5;241m3\u001b[39m)\n\u001b[1;32m      3\u001b[0m x_k \u001b[38;5;241m=\u001b[39m conjugate_gradient(A, b , \u001b[38;5;241m10\u001b[39m)\n\u001b[0;32m----> 4\u001b[0m \u001b[43mtesting\u001b[49m\u001b[38;5;241;43m.\u001b[39;49m\u001b[43massert_allclose\u001b[49m\u001b[43m(\u001b[49m\u001b[43mx_k\u001b[49m\u001b[43m,\u001b[49m\u001b[43m \u001b[49m\u001b[43mb\u001b[49m\u001b[43m,\u001b[49m\u001b[43m \u001b[49m\u001b[43mrtol\u001b[49m\u001b[38;5;241;43m=\u001b[39;49m\u001b[38;5;241;43m1e-5\u001b[39;49m\u001b[43m \u001b[49m\u001b[43m,\u001b[49m\u001b[43merr_msg\u001b[49m\u001b[38;5;241;43m=\u001b[39;49m\u001b[38;5;124;43mf\u001b[39;49m\u001b[38;5;124;43m'\u001b[39;49m\u001b[38;5;124;43mCG failed for non-definite matrix\u001b[39;49m\u001b[38;5;124;43m'\u001b[39;49m\u001b[43m)\u001b[49m\n",
      "    \u001b[0;31m[... skipping hidden 2 frame]\u001b[0m\n",
      "File \u001b[0;32m~/.local/lib/python3.10/site-packages/numpy/testing/_private/utils.py:745\u001b[0m, in \u001b[0;36massert_array_compare.<locals>.func_assert_same_pos\u001b[0;34m(x, y, func, hasval)\u001b[0m\n\u001b[1;32m    740\u001b[0m \u001b[38;5;28;01mif\u001b[39;00m bool_(x_id \u001b[38;5;241m==\u001b[39m y_id)\u001b[38;5;241m.\u001b[39mall() \u001b[38;5;241m!=\u001b[39m \u001b[38;5;28;01mTrue\u001b[39;00m:\n\u001b[1;32m    741\u001b[0m     msg \u001b[38;5;241m=\u001b[39m build_err_msg([x, y],\n\u001b[1;32m    742\u001b[0m                         err_msg \u001b[38;5;241m+\u001b[39m \u001b[38;5;124m'\u001b[39m\u001b[38;5;130;01m\\n\u001b[39;00m\u001b[38;5;124mx and y \u001b[39m\u001b[38;5;132;01m%s\u001b[39;00m\u001b[38;5;124m location mismatch:\u001b[39m\u001b[38;5;124m'\u001b[39m\n\u001b[1;32m    743\u001b[0m                         \u001b[38;5;241m%\u001b[39m (hasval), verbose\u001b[38;5;241m=\u001b[39mverbose, header\u001b[38;5;241m=\u001b[39mheader,\n\u001b[1;32m    744\u001b[0m                         names\u001b[38;5;241m=\u001b[39m(\u001b[38;5;124m'\u001b[39m\u001b[38;5;124mx\u001b[39m\u001b[38;5;124m'\u001b[39m, \u001b[38;5;124m'\u001b[39m\u001b[38;5;124my\u001b[39m\u001b[38;5;124m'\u001b[39m), precision\u001b[38;5;241m=\u001b[39mprecision)\n\u001b[0;32m--> 745\u001b[0m     \u001b[38;5;28;01mraise\u001b[39;00m \u001b[38;5;167;01mAssertionError\u001b[39;00m(msg)\n\u001b[1;32m    746\u001b[0m \u001b[38;5;66;03m# If there is a scalar, then here we know the array has the same\u001b[39;00m\n\u001b[1;32m    747\u001b[0m \u001b[38;5;66;03m# flag as it everywhere, so we should return the scalar flag.\u001b[39;00m\n\u001b[1;32m    748\u001b[0m \u001b[38;5;28;01mif\u001b[39;00m \u001b[38;5;28misinstance\u001b[39m(x_id, \u001b[38;5;28mbool\u001b[39m) \u001b[38;5;129;01mor\u001b[39;00m x_id\u001b[38;5;241m.\u001b[39mndim \u001b[38;5;241m==\u001b[39m \u001b[38;5;241m0\u001b[39m:\n",
      "\u001b[0;31mAssertionError\u001b[0m: \nNot equal to tolerance rtol=1e-05, atol=0\nCG failed for non-definite matrix\nx and y nan location mismatch:\n x: array([nan, nan, nan])\n y: array([1., 1., 1.])"
     ]
    }
   ],
   "source": [
    "A = np.array([[1, 0 , 0], [0, 1, 0], [0, 0, -2]])\n",
    "b = np.ones(3)\n",
    "x_k = conjugate_gradient(A, b , 10)\n",
    "testing.assert_allclose(x_k, b, rtol=1e-5 ,err_msg=f'CG failed for non-definite matrix')"
   ]
  },
  {
   "cell_type": "markdown",
   "id": "5c5e809e",
   "metadata": {},
   "source": [
    "# Sheet 4, Exercise 4 1) check"
   ]
  },
  {
   "cell_type": "code",
   "execution_count": 5,
   "id": "20f80867",
   "metadata": {},
   "outputs": [
    {
     "name": "stdout",
     "output_type": "stream",
     "text": [
      "[3. 2. 1.]\n"
     ]
    }
   ],
   "source": [
    "A = np.array([[2, -1, 0], [-1, 2, -1], [0, -1, 2]])\n",
    "b = np.array([4, 0, 0])\n",
    "x = conjugate_gradient(A, b, 10)\n",
    "print(x)"
   ]
  }
 ],
 "metadata": {
  "kernelspec": {
   "display_name": "Python 3",
   "language": "python",
   "name": "python3"
  },
  "language_info": {
   "codemirror_mode": {
    "name": "ipython",
    "version": 3
   },
   "file_extension": ".py",
   "mimetype": "text/x-python",
   "name": "python",
   "nbconvert_exporter": "python",
   "pygments_lexer": "ipython3",
   "version": "3.10.3"
  }
 },
 "nbformat": 4,
 "nbformat_minor": 5
}
