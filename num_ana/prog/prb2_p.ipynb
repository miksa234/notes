{
 "cells": [
  {
   "cell_type": "code",
   "execution_count": 2,
   "id": "517aef32",
   "metadata": {},
   "outputs": [],
   "source": [
    "import numpy as np\n",
    "import matplotlib.pyplot as plt"
   ]
  },
  {
   "cell_type": "markdown",
   "id": "85da4812",
   "metadata": {},
   "source": [
    "# Sheet 2, Exercise 3"
   ]
  },
  {
   "cell_type": "code",
   "execution_count": 3,
   "id": "e14c738f",
   "metadata": {},
   "outputs": [],
   "source": [
    "def gauss_siedel(A, b, k):\n",
    "    n, m = Q.shape\n",
    "    D = np.reshape([Q[i][j] if i==j else 0 for i in range(n) for j in range(n)], (n ,n))\n",
    "    L = np.reshape([Q[i][j] if i>j else 0 for i in range(n) for j in range(n)], (n ,n))\n",
    "    U = np.reshape([Q[i][j] if i<j else 0 for i in range(n) for j in range(n)], (n ,n))\n",
    "\n",
    "    x = np.random.rand(n)\n",
    "    for i in range(k):\n",
    "        x = np.linalg.inv(D)@(b - (L + U)@x)\n",
    "    return x\n",
    "\n",
    "def poisson_mat(n, m=None):\n",
    "    return 2 * np.eye(n, m) + (-1) * np.eye(n, m, k=1) + (-1) * np.eye(n, m, k=-1)\n",
    "\n",
    "# test\n",
    "for n in range(5, 20):\n",
    "    Q = poisson_mat(n)\n",
    "    b = np.ones(n)\n",
    "    x = gauss_siedel(Q, b, k=1000)\n",
    "    np.testing.assert_allclose(Q@x, b, rtol=1e-5, err_msg=f'GS failed at dim - {n}')"
   ]
  },
  {
   "cell_type": "markdown",
   "id": "51428a2b",
   "metadata": {},
   "source": [
    "# Sheet 2, Exercise 5"
   ]
  },
  {
   "cell_type": "code",
   "execution_count": 4,
   "id": "caef181e",
   "metadata": {},
   "outputs": [
    {
     "name": "stdout",
     "output_type": "stream",
     "text": [
      "1\t44.76606865271519\n",
      "2\t59.35975010638131\n",
      "3\t22.760834328149002\n",
      "4\t35.62184004487854\n",
      "5\t15.344146462132624\n",
      "6\t25.450588757787248\n",
      "7\t11.636387156050118\n",
      "8\t19.801556558635184\n",
      "9\t9.41247817754299\n"
     ]
    },
    {
     "data": {
      "text/plain": [
       "<matplotlib.collections.PathCollection at 0x7fde841e3a00>"
      ]
     },
     "execution_count": 4,
     "metadata": {},
     "output_type": "execute_result"
    },
    {
     "data": {
      "image/png": "[encoded data removed]",
      "text/plain": [
       "<Figure size 504x288 with 1 Axes>"
      ]
     },
     "metadata": {
      "needs_background": "light"
     },
     "output_type": "display_data"
    }
   ],
   "source": [
    "def neumann_polynomial_preconditioner(n, p):\n",
    "    Q = poisson_mat(n)\n",
    "    D = np.reshape([Q[i][j] if i==j else 0 for i in range(n) for j in range(n)], (n ,n))\n",
    "    N = D-Q\n",
    "    C_p = np.zeros([n, n])\n",
    "    for k in range(p+1):\n",
    "        C_p += np.linalg.matrix_power(N @ np.linalg.inv(D), k)\n",
    "    return np.linalg.inv(D) @ C_p\n",
    "    \n",
    "    \n",
    "n = 20\n",
    "Q = poisson_mat(n)\n",
    "P = np.arange(1, 50)\n",
    "cond_2 = []\n",
    "for p in P:\n",
    "    C_p = neumann_polynomial_preconditioner(n, p)\n",
    "    cond_2.append(np.linalg.cond(C_p @ Q, p=2))\n",
    "    if p in np.arange(1, 10):\n",
    "        print(p, cond_2[p-1], sep='\\t')\n",
    "    \n",
    "plt.figure(figsize=[7, 4])\n",
    "plt.scatter(P, cond_2)"
   ]
  },
  {
   "cell_type": "code",
   "execution_count": null,
   "id": "2469e597",
   "metadata": {},
   "outputs": [],
   "source": []
  }
 ],
 "metadata": {
  "kernelspec": {
   "display_name": "Python 3",
   "language": "python",
   "name": "python3"
  },
  "language_info": {
   "codemirror_mode": {
    "name": "ipython",
    "version": 3
   },
   "file_extension": ".py",
   "mimetype": "text/x-python",
   "name": "python",
   "nbconvert_exporter": "python",
   "pygments_lexer": "ipython3",
   "version": "3.10.3"
  }
 },
 "nbformat": 4,
 "nbformat_minor": 5
}
