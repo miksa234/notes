{
 "cells": [
  {
   "cell_type": "code",
   "execution_count": 1,
   "id": "517aef32",
   "metadata": {},
   "outputs": [],
   "source": [
    "import numpy as np\n",
    "import matplotlib.pyplot as plt"
   ]
  },
  {
   "cell_type": "markdown",
   "id": "85da4812",
   "metadata": {},
   "source": [
    "# Sheet 2, Exercise 3"
   ]
  },
  {
   "cell_type": "code",
   "execution_count": 53,
   "id": "e14c738f",
   "metadata": {},
   "outputs": [],
   "source": [
    "def gauss_siedel(A, b, k):\n",
    "    n, m = Q.shape\n",
    "    D = np.reshape([Q[i][j] if i==j else 0 for i in range(n) for j in range(n)], (n ,n))\n",
    "    L = np.reshape([Q[i][j] if i>j else 0 for i in range(n) for j in range(n)], (n ,n))\n",
    "    U = np.reshape([Q[i][j] if i<j else 0 for i in range(n) for j in range(n)], (n ,n))\n",
    "\n",
    "    x = np.random.rand(n)\n",
    "    for i in range(k):\n",
    "        x = np.linalg.inv(D)@(b - (L + U)@x)\n",
    "    return x\n",
    "\n",
    "def poisson_mat(n, m=None):\n",
    "    return 2 * np.eye(n, m) + (-1) * np.eye(n, m, k=1) + (-1) * np.eye(n, m, k=-1)\n",
    "\n",
    "# test\n",
    "for n in range(5, 20):\n",
    "    Q = poisson_mat(n)\n",
    "    b = np.ones(n)\n",
    "    x = gauss_siedel(Q, b, k=1000)\n",
    "    np.testing.assert_allclose(Q@x, b, rtol=1e-5, err_msg=f'GS failed at dim - {n}')"
   ]
  },
  {
   "cell_type": "markdown",
   "id": "51428a2b",
   "metadata": {},
   "source": [
    "# Sheet 2, Exercise 5"
   ]
  },
  {
   "cell_type": "code",
   "execution_count": 60,
   "id": "caef181e",
   "metadata": {},
   "outputs": [
    {
     "name": "stdout",
     "output_type": "stream",
     "text": [
      "1\t31706.88589269506\n",
      "2\t534.147900485917\n",
      "3\t31706.885892666996\n",
      "4\t890.0968016459952\n",
      "5\t31706.885892699214\n",
      "6\t1245.8213126008322\n",
      "7\t31706.885892666185\n",
      "8\t1601.2319940002324\n",
      "9\t31706.88589270954\n",
      "Max. and Min. Singular value are far apart from each other for uneaven p\n"
     ]
    },
    {
     "data": {
      "image/png": "[encoded data removed]",
      "text/plain": [
       "<Figure size 504x288 with 1 Axes>"
      ]
     },
     "metadata": {
      "needs_background": "light"
     },
     "output_type": "display_data"
    }
   ],
   "source": [
    "def neumann_polynomial_preconditioner(n, p):\n",
    "    Q = poisson_mat(n)\n",
    "    D = np.reshape([Q[i][j] if i==j else 0 for i in range(n) for j in range(n)], (n ,n))\n",
    "    N = Q - D\n",
    "    C_p = np.zeros([n, n])\n",
    "    for k in range(p+1):\n",
    "        C_p += np.linalg.matrix_power(N @ np.linalg.inv(D), k)\n",
    "    return np.linalg.inv(D) @ C_p\n",
    "    \n",
    "    \n",
    "n = 20\n",
    "Q = poisson_mat(n)\n",
    "P = np.arange(1, 10)\n",
    "cond_2 = []\n",
    "for p in P:\n",
    "    C_p = neumann_polynomial_preconditioner(n, p)\n",
    "    cond_2.append(np.linalg.cond(C_p @ Q, p=2))\n",
    "    print(p, cond_2[p-1], sep='\\t')\n",
    "    \n",
    "plt.figure(figsize=[7, 4])\n",
    "plt.scatter(P, cond_2)\n",
    "print(\"Max. and Min. Singular value are far apart from each other for uneaven p\")"
   ]
  },
  {
   "cell_type": "code",
   "execution_count": null,
   "id": "73ce1ef6",
   "metadata": {},
   "outputs": [],
   "source": []
  },
  {
   "cell_type": "code",
   "execution_count": null,
   "id": "53064abd",
   "metadata": {},
   "outputs": [],
   "source": []
  },
  {
   "cell_type": "code",
   "execution_count": null,
   "id": "26476d82",
   "metadata": {},
   "outputs": [],
   "source": []
  }
 ],
 "metadata": {
  "kernelspec": {
   "display_name": "Python 3",
   "language": "python",
   "name": "python3"
  },
  "language_info": {
   "codemirror_mode": {
    "name": "ipython",
    "version": 3
   },
   "file_extension": ".py",
   "mimetype": "text/x-python",
   "name": "python",
   "nbconvert_exporter": "python",
   "pygments_lexer": "ipython3",
   "version": "3.10.2"
  }
 },
 "nbformat": 4,
 "nbformat_minor": 5
}
