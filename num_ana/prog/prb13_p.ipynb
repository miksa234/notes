{
 "cells": [
  {
   "cell_type": "code",
   "execution_count": 112,
   "id": "f76cba3a",
   "metadata": {},
   "outputs": [],
   "source": [
    "import numpy as np\n",
    "from matplotlib import pyplot as plt\n",
    "from ipywidgets import interact"
   ]
  },
  {
   "cell_type": "code",
   "execution_count": 178,
   "id": "6b2ba2bc",
   "metadata": {},
   "outputs": [
    {
     "data": {
      "application/vnd.jupyter.widget-view+json": {
       "model_id": "e9c420d230764515bbfa697e2d58d2b1",
       "version_major": 2,
       "version_minor": 0
      },
      "text/plain": [
       "interactive(children=(IntSlider(value=40, description='n', max=80, min=1), Output()), _dom_classes=('widget-in…"
      ]
     },
     "metadata": {},
     "output_type": "display_data"
    },
    {
     "data": {
      "text/plain": [
       "<function __main__.change_step_euler(n)>"
      ]
     },
     "execution_count": 178,
     "metadata": {},
     "output_type": "execute_result"
    }
   ],
   "source": [
    "def eulers_method(f, x0, a, b, n):\n",
    "    x = np.zeros(n)\n",
    "    x[0] = x0\n",
    "    h = (b-a)/n\n",
    "    t = [a + h*i for i in range(n)]\n",
    "    for i in range(n-1):\n",
    "        x[i+1] = x[i] + h*f(t[i], x[i])\n",
    "    return x, t\n",
    "        \n",
    "a_euler = 0; b_euler = 1; x0_euler = 1;\n",
    "f_euler = lambda t, x: x\n",
    "\n",
    "def change_step_euler(n):\n",
    "    y_euler, t_euler = eulers_method(f_euler, x0_euler, a_euler, b_euler, n)\n",
    "    \n",
    "    t_ana_euler = np.linspace(0, 1, 100)\n",
    "    y_ana_euler = x0_euler*np.exp(t_ana_euler)\n",
    "    \n",
    "    plt.figure(figsize=(10, 8))\n",
    "    plt.plot(t_euler, y_euler, '.-', label='euler', lw=2, ms=10)\n",
    "    plt.plot(t_ana_euler, y_ana_euler, label='Analytical')\n",
    "    plt.legend(loc='best')\n",
    "\n",
    "interact(change_step_euler, n=(1, 80))"
   ]
  },
  {
   "cell_type": "code",
   "execution_count": 179,
   "id": "76c4d4a5",
   "metadata": {},
   "outputs": [
    {
     "data": {
      "application/vnd.jupyter.widget-view+json": {
       "model_id": "fe2121b2a7bc4d7890c6d9522f3f2d79",
       "version_major": 2,
       "version_minor": 0
      },
      "text/plain": [
       "interactive(children=(IntSlider(value=10, description='n', max=20, min=1), Output()), _dom_classes=('widget-in…"
      ]
     },
     "metadata": {},
     "output_type": "display_data"
    },
    {
     "data": {
      "text/plain": [
       "<function __main__.change_step_kuta(n)>"
      ]
     },
     "execution_count": 179,
     "metadata": {},
     "output_type": "execute_result"
    }
   ],
   "source": [
    "def runge_kutta_4(x0, f, a, b, n):\n",
    "    h = (b-a)/n\n",
    "    t = [a+h*i for i in range(n)]\n",
    "    x = np.zeros(n)\n",
    "    x[0] = x0\n",
    "    \n",
    "    for i in range(n-1):\n",
    "        k_1 = f(t[i], x[i])\n",
    "        k_2 = f(t[i] + h/2, x[i] + h*k_1/2)\n",
    "        k_3 = f(t[i] + h/2, x[i] + h*k_2/2)\n",
    "        k_4 = f(t[i] + h, x[i] + h*k_3)\n",
    "        \n",
    "        x[i+1] = x[i] + h/6*(k_1 + 2*k_2 + 2*k_3 + k_4)\n",
    "\n",
    "    return x, t\n",
    "\n",
    "a_kuta = 0; b_kuta = 1; x0_kuta = 1\n",
    "f_kuta = lambda t, x: 2*t*x\n",
    "\n",
    "def change_step_kuta(n):\n",
    "    y_runge, t_runge = runge_kutta_4(x0_kuta, f_kuta, a_kuta, b_kuta, n)\n",
    "    \n",
    "    t_ana_kuta = np.linspace(0, 1, 100)\n",
    "    y_ana_kuta = x0_kuta*np.exp(t_ana_kuta**2)\n",
    "    \n",
    "    plt.figure(figsize=(10, 8))\n",
    "    plt.plot(t_runge, y_runge, '.-', label='Runge-Kutta-4', lw=2, ms=10)\n",
    "    plt.plot(t_ana_kuta, y_ana_kuta, label='Analytical')\n",
    "    plt.legend(loc='best')\n",
    "\n",
    "interact(change_step_kuta, n=(1, 20))"
   ]
  },
  {
   "cell_type": "code",
   "execution_count": null,
   "id": "75aa43db",
   "metadata": {},
   "outputs": [],
   "source": []
  }
 ],
 "metadata": {
  "kernelspec": {
   "display_name": "Python 3",
   "language": "python",
   "name": "python3"
  },
  "language_info": {
   "codemirror_mode": {
    "name": "ipython",
    "version": 3
   },
   "file_extension": ".py",
   "mimetype": "text/x-python",
   "name": "python",
   "nbconvert_exporter": "python",
   "pygments_lexer": "ipython3",
   "version": "3.10.5"
  }
 },
 "nbformat": 4,
 "nbformat_minor": 5
}
