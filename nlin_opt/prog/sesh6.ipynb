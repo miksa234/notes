{
 "cells": [
  {
   "cell_type": "markdown",
   "id": "bcc85c40",
   "metadata": {},
   "source": [
    "# MILUTIN POPOVIC: EXERCISE SHEET 6"
   ]
  },
  {
   "cell_type": "code",
   "execution_count": 1,
   "id": "77f12d86",
   "metadata": {},
   "outputs": [],
   "source": [
    "import numpy as np\n",
    "import numdifftools as nd"
   ]
  },
  {
   "cell_type": "markdown",
   "id": "921657fc",
   "metadata": {},
   "source": [
    "Exercise 41:\n",
    "-----------------\n",
    "Implement the local Newton algorithm. Use as input data the starting vector x0,\n",
    "the parameter for the stopping criterion ε and the parameter for the maximal\n",
    "number of allowed iterations kmax. The sequence $x_0$, $x_1$, $x_2$, ...\n",
    "containing the iteration history and the number of performed iterations should be returned.\n",
    "The implemented algorithm should be tested for ε = 10^(−6) and kmax = 200, and the following\n",
    "\n",
    "Exercise 42:\n",
    "-----------------\n",
    "Implement the globalized Newton algorithm. Use as input data the starting vector $x_0$ the\n",
    "parameter for the stopping criterion ε, the parameter for the maximal number of allowed\n",
    "iterations kmax, the parameters for the determination of the Armijo step size σ and β, and\n",
    "the parameters ρ and p. The sequence $x_0$, $x_1$, $x_2$, ... containing the iteration history and the\n",
    "number of performed iterations should be returned.\n",
    "The implemented algorithm should be tested for ε=10−6, kmax=200, ρ=10−8, p=2.1, σ=10−4"
   ]
  },
  {
   "cell_type": "code",
   "execution_count": 2,
   "id": "bc388246",
   "metadata": {},
   "outputs": [],
   "source": [
    "def local_newton(f, x_0, eps=10e-6, kmax=200):\n",
    "    f_grad = nd.Gradient(f)\n",
    "    f_hess = nd.Hessian(f)\n",
    "    x_k = x_0\n",
    "    \n",
    "    for k in range(kmax):\n",
    "        if np.linalg.norm(f_grad(x_k)) <= eps:\n",
    "            return x_k\n",
    "            break\n",
    "            \n",
    "        if type(x_0) == float:\n",
    "            d_k = -float(f_hess(x_k))/float(f_grad(x_k))\n",
    "        else:\n",
    "            d_k = np.linalg.solve(f_hess(x_k), -f_grad(x_k))\n",
    "            \n",
    "        x_k = x_k + np.array(d_k)\n",
    "    return x_k\n",
    "\n",
    "def global_newton(f, x_0, eps=10e-6, kmax=200, rho=10e-8, p=2.1, sig=10e-4, beta=0.5):\n",
    "    f_grad = nd.Gradient(f)\n",
    "    f_hess = nd.Hessian(f)\n",
    "    x_k = x_0\n",
    "    for k in range(kmax):\n",
    "        if np.linalg.norm(f_grad(x_k)) <= eps:\n",
    "            return x_k\n",
    "            break\n",
    "            \n",
    "        try:\n",
    "            if type(x_0) == float:\n",
    "                d_k = -float(f_hess(x_k))/float(f_grad(x_k))\n",
    "            else:\n",
    "                d_k = np.linalg.solve(f_hess(x_k), -f_grad(x_k))\n",
    "            if (np.dot(f_grad(x_k), d_k) > -rho*np.linalg.norm(d_k)**p):\n",
    "                d_k = -f_grad(x_k)\n",
    "        except np.linalg.LinAlgError:\n",
    "            d_k = -f_grad(x_k)\n",
    "       \n",
    "        # Find step size (Arnijno Rule)\n",
    "        t_k = 1\n",
    "        while f(x_k + t_k*d_k) > f(x_k) + sig*t_k * np.dot(f_grad(x_k), d_k):\n",
    "            t_k = t_k * beta\n",
    "            \n",
    "        x_k = x_k + t_k * d_k\n",
    "        \n",
    "    return x_k"
   ]
  },
  {
   "cell_type": "code",
   "execution_count": 3,
   "id": "58828079",
   "metadata": {},
   "outputs": [
    {
     "name": "stdout",
     "output_type": "stream",
     "text": [
      "a)\n",
      "Local Newton Algorithm for x_0 = [-1.2, 1] is: [0.9999957  0.99999139]\n",
      "Global Newton Algorithm for x_0 = [-1.2, 1] is: [1. 1.]\n",
      "\n",
      "b)\n",
      "Local Newton Algorithm for x_0 = [0.25, 0.25, 0.25, 0.25] is: [1.50383723 0.7951105  0.47235406 0.32296666]\n",
      "Global Newton Algorithm for x_0 = [0.25, 0.25, 0.25, 0.25] is: [1.50383723 0.7951105  0.47235406 0.32296666]\n",
      "\n",
      "c)\n",
      "Local Newton Algorithm for x_0 = [1, 1] is: [158.75270666  79.36690168]\n",
      "Global Newton Algorithm for x_0 = [1, 1] is: [1.24996948e-06 2.00000000e+06]\n",
      "\n",
      "d)\n",
      "Local Newton Algorithm for x_0 = [-3, -1, -3, -1] is: [-1.41934291  2.02305705  0.36974654  0.12724277]\n",
      "Global Newton Algorithm for x_0 = [-3, -1, -3, -1] is: [-1.41934305  2.02305745  0.36974706  0.12724316]\n",
      "\n",
      "e)\n",
      "Local Newton Algorithm for x_0 = 2.0 is: -10.69705641570642\n",
      "Local Newton Algorithm for x_0 = 1.0 is: 21.27903082235975\n",
      "Local Newton Algorithm for x_0 = 0.5 is: 21.26959143622489\n",
      "Global Newton Algorithm for x_0 = 2.0 is: -4.437802149414097e-11\n",
      "Global Newton Algorithm for x_0 = 1.0 is: 8.446339466597688e-14\n",
      "Global Newton Algorithm for x_0 = 0.5 is: 7.344043315106116e-14\n",
      "\n"
     ]
    }
   ],
   "source": [
    "f_a = lambda x: (1-x[0])**2 + 100*(x[1] - x[0]**2)**2\n",
    "x_a_0 = [-1.2, 1]\n",
    "print('a)')\n",
    "print(f'Local Newton Algorithm for x_0 = {x_a_0} is: {local_newton(f_a, x_a_0)}')\n",
    "print(f'Global Newton Algorithm for x_0 = {x_a_0} is: {global_newton(f_a, x_a_0)}')\n",
    "print('')\n",
    "\n",
    "f_b = lambda x: sum( (sum(np.cos(x[j]) + (i+1)*(1 - np.cos(x[i])) - np.sin(x[i]) for j in range(4) ) )**2  for i in range(4) )\n",
    "x_b_0 = [1/4, 1/4, 1/4, 1/4]\n",
    "print('b)')\n",
    "print(f'Local Newton Algorithm for x_0 = {x_b_0} is: {local_newton(f_b, x_b_0)}')\n",
    "print(f'Global Newton Algorithm for x_0 = {x_b_0} is: {global_newton(f_b, x_b_0)}')\n",
    "print('')\n",
    "\n",
    "f_c = lambda x: (x[0] - 10**6)**2 + (x[1] - 2*10**6)**2 + (x[0]*x[1] - 2)**2\n",
    "x_c_0 = [1, 1]\n",
    "print('c)')\n",
    "print(f'Local Newton Algorithm for x_0 = {x_c_0} is: {local_newton(f_c, x_c_0)}')\n",
    "print(f'Global Newton Algorithm for x_0 = {x_c_0} is: {global_newton(f_c, x_c_0)}')\n",
    "print('')\n",
    "\n",
    "f_d = lambda x: 100*(x[1] - x[0]**2)**2 + (1-x[0])**2 + 90*(x[3] - x[2]**2)**2 + (1 - x[2])**2 + 10*(x[1] - x[3] - 2)**2 + 1/10*(x[1] - x[3])**2\n",
    "x_d_0 = [-3, -1, -3, -1]\n",
    "print('d)')\n",
    "print(f'Local Newton Algorithm for x_0 = {x_d_0} is: {local_newton(f_d, x_d_0)}')\n",
    "print(f'Global Newton Algorithm for x_0 = {x_d_0} is: {global_newton(f_d, x_d_0)}')\n",
    "print('')\n",
    "\n",
    "f_e = lambda x: np.sqrt(1 + x**2)\n",
    "x_e_00 = 2.0\n",
    "x_e_01 = 1.0\n",
    "x_e_02 = 1/2\n",
    "print('e)')\n",
    "print(f'Local Newton Algorithm for x_0 = {x_e_00} is: {local_newton(f_e, x_e_00)}')\n",
    "print(f'Local Newton Algorithm for x_0 = {x_e_01} is: {local_newton(f_e, x_e_01)}')\n",
    "print(f'Local Newton Algorithm for x_0 = {x_e_02} is: {local_newton(f_e, x_e_02)}')\n",
    "print(f'Global Newton Algorithm for x_0 = {x_e_00} is: {global_newton(f_e, x_e_00)}')\n",
    "print(f'Global Newton Algorithm for x_0 = {x_e_01} is: {global_newton(f_e, x_e_01)}')\n",
    "print(f'Global Newton Algorithm for x_0 = {x_e_02} is: {global_newton(f_e, x_e_02)}')\n",
    "print('')"
   ]
  },
  {
   "cell_type": "code",
   "execution_count": null,
   "id": "b1f45770",
   "metadata": {},
   "outputs": [],
   "source": []
  }
 ],
 "metadata": {
  "kernelspec": {
   "display_name": "Python 3",
   "language": "python",
   "name": "python3"
  },
  "language_info": {
   "codemirror_mode": {
    "name": "ipython",
    "version": 3
   },
   "file_extension": ".py",
   "mimetype": "text/x-python",
   "name": "python",
   "nbconvert_exporter": "python",
   "pygments_lexer": "ipython3",
   "version": "3.10.9"
  }
 },
 "nbformat": 4,
 "nbformat_minor": 5
}
