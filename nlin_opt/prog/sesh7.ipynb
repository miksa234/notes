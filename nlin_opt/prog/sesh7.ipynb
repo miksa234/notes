{
 "cells": [
  {
   "cell_type": "markdown",
   "id": "f40de83a",
   "metadata": {},
   "source": [
    "# Milutin Popovic"
   ]
  },
  {
   "cell_type": "code",
   "execution_count": 1,
   "id": "5470e45b",
   "metadata": {},
   "outputs": [],
   "source": [
    "import numpy as np\n",
    "import numdifftools as nd"
   ]
  },
  {
   "cell_type": "code",
   "execution_count": 2,
   "id": "f0310e79",
   "metadata": {},
   "outputs": [],
   "source": [
    "def lagrange_newton(f, h_s, x_0, mu_0, eps, kmax):\n",
    "    mu_l = [mu_0]; x_l = [x_0]\n",
    "    n = len(x_0); p = len(mu_0)\n",
    "    x_k = x_0; mu_k = mu_0\n",
    "    x_mu_k = np.concatenate([x_k, mu_k])\n",
    "    \n",
    "    f_hess = nd.Hessian(f)\n",
    "    f_grad = nd.Gradient(f)\n",
    "    h_hess_s = [nd.Hessian(h_i) for h_i in h_s]\n",
    "    h_grad_s = [nd.Gradient(h_i) for h_i in h_s]\n",
    "    \n",
    "    for k in range(kmax):\n",
    "        # Construct\n",
    "        d_L_k = f_grad(x_k) + sum(mu_k[i]*h_grad_s[i](x_k) for i in range(p))\n",
    "        dd_L_k = f_hess(x_k) + sum(mu_k[i]*h_hess_s[i](x_k) for i in range(p))\n",
    "        \n",
    "        if p == 1:\n",
    "            h_k = np.array([h_s[0](x_k)])\n",
    "            nabl_h_k = h_grad_s[0](x_k)\n",
    "            part_2 = np.hstack([nabl_h_k, np.zeros(p)])\n",
    "        else:\n",
    "            h_k = np.hstack([h_s[i](x_k) for i in range(p)])\n",
    "            nabl_h_k = np.vstack([h_grad_s[i](x_k) for i in range(p)])\n",
    "            part_2 = np.hstack([nabl_h_k, np.zeros([p, p])])\n",
    "        \n",
    "        part_1 = np.hstack([dd_L_k , nabl_h_k.reshape(n, p)])\n",
    "        nabl_phi =  np.vstack([part_1, part_2])\n",
    "        \n",
    "        phi = np.concatenate([d_L_k, h_k])\n",
    "        \n",
    "        if np.linalg.norm(phi) <= eps:\n",
    "            return x_l, mu_l, k\n",
    "        \n",
    "        d_x_mu_k = np.linalg.solve(nabl_phi, -phi)\n",
    "        x_mu_k = x_mu_k + d_x_mu_k\n",
    "        \n",
    "        \n",
    "        x_l.append(x_mu_k[:n])\n",
    "        mu_l.append(x_mu_k[n:])\n",
    "        k += 1\n",
    "    \n",
    "    return x_l, mu_l, kmax"
   ]
  },
  {
   "cell_type": "code",
   "execution_count": 3,
   "id": "b00a3f83",
   "metadata": {},
   "outputs": [
    {
     "name": "stdout",
     "output_type": "stream",
     "text": [
      "x_k:  [-353.84615385   92.30769231]\n",
      "μ_k:  [1461.53846154]\n",
      "k : 200\n"
     ]
    }
   ],
   "source": [
    "f_a = lambda x: 2*x[0]**4 + x[1]**4 + 4*x[0]**2 - x[0]*x[1] + 6*x[1]**2\n",
    "h_a = lambda x: 2*x[0] - x[1] + 4\n",
    "x_0 = np.array([0, 0]); mu_0 = np.array([0]); kmax = 200; eps = 10e-3\n",
    "\n",
    "x_l, mu_l, k = lagrange_newton(f_a, [h_a], x_0, mu_0, eps, kmax)\n",
    "print('x_k: ', x_l[-1])\n",
    "print('μ_k: ', mu_l[-1])\n",
    "print('k :', k)"
   ]
  },
  {
   "cell_type": "code",
   "execution_count": 4,
   "id": "c6ca49f2",
   "metadata": {},
   "outputs": [
    {
     "name": "stdout",
     "output_type": "stream",
     "text": [
      "x_k:  [-754.14996676 1591.53061069  886.06125938]\n",
      "μ_k:  [435.38303733 469.48428151]\n",
      "k : 200\n"
     ]
    }
   ],
   "source": [
    "f_b = lambda x: 1000 - x[0]**2 - 2*x[1]**2 - x[2]**2 - x[0]*x[1] - x[0]*x[2]\n",
    "h_1 = lambda x: x[0]**2 + x[1]**2 + x[2]**2 - 25\n",
    "h_2 = lambda x: 8*x[0] + 14*x[1] - 7*x[2] - 56\n",
    "x_0 = np.array([3, 0.2, 3]); mu_0 = np.array([0, 0]); kmax = 200; eps = 10e-5\n",
    "\n",
    "x_l, mu_l, k = lagrange_newton(f_b, [h_1, h_2], x_0, mu_0, eps, kmax)\n",
    "print('x_k: ', x_l[-1])\n",
    "print('μ_k: ', mu_l[-1])\n",
    "print('k :', k)"
   ]
  }
 ],
 "metadata": {
  "kernelspec": {
   "display_name": "Python 3 (ipykernel)",
   "language": "python",
   "name": "python3"
  },
  "language_info": {
   "codemirror_mode": {
    "name": "ipython",
    "version": 3
   },
   "file_extension": ".py",
   "mimetype": "text/x-python",
   "name": "python",
   "nbconvert_exporter": "python",
   "pygments_lexer": "ipython3",
   "version": "3.11.6"
  }
 },
 "nbformat": 4,
 "nbformat_minor": 5
}
